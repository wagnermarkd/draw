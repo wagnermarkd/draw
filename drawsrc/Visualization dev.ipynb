{
 "cells": [
  {
   "cell_type": "code",
   "execution_count": 1,
   "metadata": {
    "collapsed": false
   },
   "outputs": [
    {
     "name": "stdout",
     "output_type": "stream",
     "text": [
      "Extracting MNIST_data/train-images-idx3-ubyte.gz\n",
      "Extracting MNIST_data/train-labels-idx1-ubyte.gz\n",
      "Extracting MNIST_data/t10k-images-idx3-ubyte.gz\n",
      "Extracting MNIST_data/t10k-labels-idx1-ubyte.gz\n"
     ]
    }
   ],
   "source": [
    "from tensorflow.examples.tutorials.mnist import input_data\n",
    "import tensorflow as tf\n",
    "from mnist_learn import binarize\n",
    "from filterbank import banks\n",
    "import numpy as np\n",
    "\n",
    "sess = tf.Session()\n",
    "with sess.as_default():\n",
    "    shape = (28,28)\n",
    "    N = 5\n",
    "    delta = [2., 1.]\n",
    "    gamma = [1., 2.]\n",
    "    sigma = [1., 1.]\n",
    "    center_x = [14.,14.]\n",
    "    center_y = [14.,14.]\n",
    "    FX, FY = banks(center_x,center_y,sigma,delta,gamma,N,shape)\n",
    "\n",
    "    mnist = input_data.read_data_sets(\"MNIST_data/\", one_hot=True)\n",
    "    train_data, valid_data, test_data = binarize(mnist.train.images), binarize(mnist.validation.images), binarize(mnist.test.images)\n",
    "    data = np.reshape(train_data[:2], [-1, 28,28])\n",
    "    output = tf.batch_matmul(tf.batch_matmul(FX, data),tf.transpose(FY, perm=[0,2,1])).eval()\n"
   ]
  },
  {
   "cell_type": "code",
   "execution_count": 2,
   "metadata": {
    "collapsed": false
   },
   "outputs": [],
   "source": [
    "import png\n",
    "from mnist_learn import scale\n",
    "shape = np.shape(output)\n",
    "w = png.Writer(shape[2], shape[1], greyscale=True)\n",
    "for i in range(shape[0]):\n",
    "    file = open(\"/Users/mwagner/git/draw-network/imgs/filter-%d.png\" % i, 'wb')\n",
    "    \n",
    "    w.write(file, scale(output[i]))\n",
    "    file.close() "
   ]
  },
  {
   "cell_type": "code",
   "execution_count": 3,
   "metadata": {
    "collapsed": false
   },
   "outputs": [],
   "source": [
    "srcw = png.Writer(28,28, greyscale=True)\n",
    "file = open(\"/Users/mwagner/git/draw-network/imgs/src.png\", 'wb')\n",
    "srcw.write(file, scale(data[0]))\n",
    "file.close()\n"
   ]
  },
  {
   "cell_type": "code",
   "execution_count": null,
   "metadata": {
    "collapsed": true
   },
   "outputs": [],
   "source": []
  },
  {
   "cell_type": "code",
   "execution_count": 27,
   "metadata": {
    "collapsed": false
   },
   "outputs": [],
   "source": [
    "from PIL import Image, ImageDraw, ImageColor\n",
    "a = 0\n",
    "img = Image.fromarray(scale(data[a]))\n",
    "img = img.convert(mode=\"RGBA\")\n",
    "\n",
    "overlay = Image.new('RGBA', img.size, (255,255,255,0))\n",
    "    \n",
    "draw = ImageDraw.Draw(overlay)\n",
    "draw.rectangle([center_x[a]-N*delta[a], center_y[a]-N*delta[a], center_x[a]+N*delta[a], center_y[a] + N*delta[a]], fill=(0,255,0,128))\n",
    "draw.rectangle([center_x[a]-sigma[a], center_y[a]-sigma[a], center_x[a]+sigma[a], center_y[a] + sigma[a]], fill=(255,0,0,128))\n",
    "del draw\n",
    "out = Image.alpha_composite(img, overlay)\n",
    "out.show()\n",
    "\n",
    "Image.fromarray(scale(output[a])).show()"
   ]
  },
  {
   "cell_type": "code",
   "execution_count": null,
   "metadata": {
    "collapsed": true
   },
   "outputs": [],
   "source": []
  },
  {
   "cell_type": "code",
   "execution_count": null,
   "metadata": {
    "collapsed": true
   },
   "outputs": [],
   "source": []
  }
 ],
 "metadata": {
  "kernelspec": {
   "display_name": "Python 2",
   "language": "python",
   "name": "python2"
  },
  "language_info": {
   "codemirror_mode": {
    "name": "ipython",
    "version": 2
   },
   "file_extension": ".py",
   "mimetype": "text/x-python",
   "name": "python",
   "nbconvert_exporter": "python",
   "pygments_lexer": "ipython2",
   "version": "2.7.10"
  }
 },
 "nbformat": 4,
 "nbformat_minor": 0
}
